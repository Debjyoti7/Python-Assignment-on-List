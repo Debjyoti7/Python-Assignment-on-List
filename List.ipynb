{
 "cells": [
  {
   "cell_type": "markdown",
   "id": "9489296f-077c-422c-b64d-0cff1e6097ee",
   "metadata": {},
   "source": [
    "# Q1. Create an empty list."
   ]
  },
  {
   "cell_type": "code",
   "execution_count": 1,
   "id": "4f688e56-143e-4982-9b15-ff962136c045",
   "metadata": {},
   "outputs": [],
   "source": [
    "my_list = []"
   ]
  },
  {
   "cell_type": "markdown",
   "id": "c19d4468-18cc-4a1f-93c2-686a55427d73",
   "metadata": {},
   "source": [
    "# Q2. Create a list and add an element to the end of this list."
   ]
  },
  {
   "cell_type": "code",
   "execution_count": 2,
   "id": "eeb8d2df-68cb-42cc-b876-065b0e8d97b9",
   "metadata": {},
   "outputs": [],
   "source": [
    "l1 = [1,2,3,4]\n",
    "l1.append(5)"
   ]
  },
  {
   "cell_type": "code",
   "execution_count": 3,
   "id": "fcb0316f-32d0-4d73-95d0-214b797860e1",
   "metadata": {},
   "outputs": [
    {
     "data": {
      "text/plain": [
       "[1, 2, 3, 4, 5]"
      ]
     },
     "execution_count": 3,
     "metadata": {},
     "output_type": "execute_result"
    }
   ],
   "source": [
    "l1"
   ]
  },
  {
   "cell_type": "markdown",
   "id": "6cb814d0-2a43-4e17-aecb-3562a7381a5d",
   "metadata": {},
   "source": [
    "# Q3. For the above created list print the last element."
   ]
  },
  {
   "cell_type": "code",
   "execution_count": 4,
   "id": "dc75aa71-95f9-431f-92fd-dce06c1141f5",
   "metadata": {},
   "outputs": [
    {
     "name": "stdout",
     "output_type": "stream",
     "text": [
      "5\n"
     ]
    }
   ],
   "source": [
    "print(l1[4])"
   ]
  },
  {
   "cell_type": "markdown",
   "id": "8c8e5dea-d97d-4072-8231-117c96c44338",
   "metadata": {},
   "source": [
    "# Q4. Reverse the above created list."
   ]
  },
  {
   "cell_type": "code",
   "execution_count": 14,
   "id": "ec4a59cf-4a2f-4236-8753-0eaebc77c923",
   "metadata": {},
   "outputs": [
    {
     "data": {
      "text/plain": [
       "[5, 4, 3, 2, 1]"
      ]
     },
     "execution_count": 14,
     "metadata": {},
     "output_type": "execute_result"
    }
   ],
   "source": [
    "l1"
   ]
  },
  {
   "cell_type": "code",
   "execution_count": 15,
   "id": "fc4f38d6-d41f-4521-99c3-d737cac80806",
   "metadata": {},
   "outputs": [
    {
     "name": "stdout",
     "output_type": "stream",
     "text": [
      "[1, 2, 3, 4, 5]\n"
     ]
    }
   ],
   "source": [
    "reverse_list = l1[::-1]\n",
    "print(reverse_list)"
   ]
  },
  {
   "cell_type": "markdown",
   "id": "3eddf20c-1704-4c3d-9e07-d27994420e42",
   "metadata": {},
   "source": [
    "# Q5. Sort the above created list."
   ]
  },
  {
   "cell_type": "code",
   "execution_count": 17,
   "id": "59b9fc54-cf52-47dd-8bd9-c02da00c03c2",
   "metadata": {},
   "outputs": [],
   "source": [
    "l2 = [1,3,4,5,7,8,9]\n",
    "l2.sort()"
   ]
  },
  {
   "cell_type": "code",
   "execution_count": 18,
   "id": "a5d4f25a-e12a-4a1c-9626-09f97f6b133c",
   "metadata": {},
   "outputs": [
    {
     "data": {
      "text/plain": [
       "[1, 3, 4, 5, 7, 8, 9]"
      ]
     },
     "execution_count": 18,
     "metadata": {},
     "output_type": "execute_result"
    }
   ],
   "source": [
    "l2\n"
   ]
  },
  {
   "cell_type": "markdown",
   "id": "0ca71f2e-a49b-4d2a-b05b-689dad804011",
   "metadata": {},
   "source": [
    "# Q6. Create a list of your top three favorite movies, then print the second movie title."
   ]
  },
  {
   "cell_type": "code",
   "execution_count": 19,
   "id": "c7cd173e-1066-4268-946b-c0c305758d4c",
   "metadata": {},
   "outputs": [
    {
     "name": "stdout",
     "output_type": "stream",
     "text": [
      "EFG\n"
     ]
    }
   ],
   "source": [
    "movies= ['ABC' , 'EFG', 'GHI']\n",
    "print(movies[1])"
   ]
  },
  {
   "cell_type": "markdown",
   "id": "6b87417c-dc00-4857-8f21-62e8ffb6caa1",
   "metadata": {},
   "source": [
    "# Q7. Create a list of your favorite animals, then add a new animal to the list and print the updated list."
   ]
  },
  {
   "cell_type": "code",
   "execution_count": 22,
   "id": "92fd1f0c-a92b-4049-8efb-78d97b691b2f",
   "metadata": {},
   "outputs": [
    {
     "data": {
      "text/plain": [
       "['dog', 'cat', 'rabit', 'horse']"
      ]
     },
     "execution_count": 22,
     "metadata": {},
     "output_type": "execute_result"
    }
   ],
   "source": [
    "animals = ['dog' , 'cat' , 'rabit']\n",
    "animals.append('horse')\n",
    "animals"
   ]
  },
  {
   "cell_type": "markdown",
   "id": "b083ec14-286d-4ccc-b567-819ce8a5b50f",
   "metadata": {},
   "source": [
    "# Q8. Create a list of your favorite cities, then use the index() method to find the position of a specific city on the list and print it."
   ]
  },
  {
   "cell_type": "code",
   "execution_count": 26,
   "id": "86383e76-911a-485a-bbe7-63a5557a3d4d",
   "metadata": {},
   "outputs": [
    {
     "name": "stdout",
     "output_type": "stream",
     "text": [
      "0\n"
     ]
    }
   ],
   "source": [
    "cities = ['kolkata' , 'darjeeling' , 'barasat' , 'barrackpore']\n",
    "print(cities.index('kolkata'))"
   ]
  },
  {
   "cell_type": "code",
   "execution_count": null,
   "id": "ad3870cb-6187-4814-83e3-27ccf01d28e9",
   "metadata": {},
   "outputs": [],
   "source": []
  }
 ],
 "metadata": {
  "kernelspec": {
   "display_name": "Python 3 (ipykernel)",
   "language": "python",
   "name": "python3"
  },
  "language_info": {
   "codemirror_mode": {
    "name": "ipython",
    "version": 3
   },
   "file_extension": ".py",
   "mimetype": "text/x-python",
   "name": "python",
   "nbconvert_exporter": "python",
   "pygments_lexer": "ipython3",
   "version": "3.10.8"
  }
 },
 "nbformat": 4,
 "nbformat_minor": 5
}
